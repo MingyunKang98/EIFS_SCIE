{
 "cells": [
  {
   "cell_type": "code",
   "execution_count": 2,
   "id": "b0f1261e-5551-46c9-9008-b57f4380e13f",
   "metadata": {},
   "outputs": [
    {
     "name": "stdout",
     "output_type": "stream",
     "text": [
      "Polygon Points:\n",
      "[[448 530]\n",
      " [448 531]]\n"
     ]
    },
    {
     "data": {
      "image/png": "[encoded data removed]",
      "text/plain": [
       "<Figure size 640x480 with 1 Axes>"
      ]
     },
     "metadata": {},
     "output_type": "display_data"
    }
   ],
   "source": [
    "import numpy as np\n",
    "import matplotlib.pyplot as plt\n",
    "\n",
    "# 바깥 contour와 안쪽 contour의 점들을 받아서 가장 가까운 점 쌍을 찾아주는 함수\n",
    "def find_closest_points(contour_outer, contour_inner):\n",
    "    min_dist = float('inf')\n",
    "    closest_points = None\n",
    "\n",
    "    for point_outer in contour_outer:\n",
    "        for point_inner in contour_inner:\n",
    "            dist = np.linalg.norm(point_outer - point_inner)  # 두 점 간의 거리 계산\n",
    "            if dist < min_dist:\n",
    "                min_dist = dist\n",
    "                closest_points = (point_outer, point_inner)\n",
    "\n",
    "    return closest_points\n",
    "\n",
    "# 바깥 contour와 안쪽 contour의 점들을 받아서 하나의 polygon으로 만들어주는 함수\n",
    "def connect_contours(contour_outer, contour_inner):\n",
    "    closest_points = find_closest_points(contour_outer, contour_inner)\n",
    "    polygon = np.vstack((closest_points[0], closest_points[1]))  # 두 점을 연결하여 하나의 폴리곤으로 만듦\n",
    "\n",
    "    return polygon\n",
    "\n",
    "# 예시 contour 데이터\n",
    "outer_contour = np.array([(445, 537),\n",
    "                          (448, 535),\n",
    "                          (448, 530),\n",
    "                          (446, 529),\n",
    "                          (446, 481),\n",
    "                          (445, 480),\n",
    "                          (445, 468),\n",
    "                          (446, 466),\n",
    "                          (446, 420),\n",
    "                          (445, 419)])\n",
    "\n",
    "inner_contour = np.array([(450, 530),\n",
    "                          (448, 531),\n",
    "                          (446, 533),\n",
    "                          (447, 483),\n",
    "                          (446, 482),\n",
    "                          (446, 470),\n",
    "                          (445, 469),\n",
    "                          (446, 468),\n",
    "                          (446, 422),\n",
    "                          (447, 421)])\n",
    "\n",
    "# 폴리곤 생성\n",
    "polygon = connect_contours(outer_contour, inner_contour)\n",
    "\n",
    "# 결과 출력\n",
    "print(\"Polygon Points:\")\n",
    "print(polygon)\n",
    "\n",
    "# 시각화\n",
    "plt.plot(polygon[:, 0], polygon[:, 1], 'r-')  # 폴리곤을 빨간색 선으로 표시\n",
    "plt.scatter(outer_contour[:, 0], outer_contour[:, 1], color='blue')  # 바깥 contour 점들을 파란색으로 표시\n",
    "plt.scatter(inner_contour[:, 0], inner_contour[:, 1], color='green')  # 안쪽 contour 점들을 초록색으로 표시\n",
    "plt.gca().set_aspect('equal', adjustable='box')  # 가로와 세로 비율을 동일하게 설정\n",
    "plt.xlabel('X')\n",
    "plt.ylabel('Y')\n",
    "plt.title('Polygon')\n",
    "plt.grid(True)\n",
    "plt.show()\n"
   ]
  }
 ],
 "metadata": {
  "kernelspec": {
   "display_name": "Python 3 (ipykernel)",
   "language": "python",
   "name": "python3"
  },
  "language_info": {
   "codemirror_mode": {
    "name": "ipython",
    "version": 3
   },
   "file_extension": ".py",
   "mimetype": "text/x-python",
   "name": "python",
   "nbconvert_exporter": "python",
   "pygments_lexer": "ipython3",
   "version": "3.10.13"
  }
 },
 "nbformat": 4,
 "nbformat_minor": 5
}
